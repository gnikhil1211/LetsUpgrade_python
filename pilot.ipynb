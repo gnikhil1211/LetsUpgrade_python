{
 "cells": [
  {
   "cell_type": "code",
   "execution_count": 4,
   "metadata": {},
   "outputs": [
    {
     "name": "stdout",
     "output_type": "stream",
     "text": [
      "Enter the Altitude : 5000\n",
      " Bring it to 1000\n"
     ]
    }
   ],
   "source": [
    "altitude = input(\"Enter the Altitude : \")\n",
    "altitude = int(altitude)\n",
    "\n",
    "if altitude == 1000 and altitude < 1000:\n",
    "    print(\"Safe to Land the Plane\")\n",
    "elif altitude > 1000 and altitude <= 5000:\n",
    "    print(\" Bring it to 1000\")\n",
    "else :\n",
    "    print(\"Turn Around and Try later\")"
   ]
  },
  {
   "cell_type": "code",
   "execution_count": null,
   "metadata": {},
   "outputs": [],
   "source": []
  }
 ],
 "metadata": {
  "kernelspec": {
   "display_name": "Python 3",
   "language": "python",
   "name": "python3"
  },
  "language_info": {
   "codemirror_mode": {
    "name": "ipython",
    "version": 3
   },
   "file_extension": ".py",
   "mimetype": "text/x-python",
   "name": "python",
   "nbconvert_exporter": "python",
   "pygments_lexer": "ipython3",
   "version": "3.8.3"
  }
 },
 "nbformat": 4,
 "nbformat_minor": 4
}
